{
 "cells": [
  {
   "cell_type": "code",
   "execution_count": 1,
   "metadata": {},
   "outputs": [],
   "source": [
    "import pickle\n",
    "import pandas as pd\n",
    "from rake_nltk import Rake\n",
    "import numpy as np\n",
    "from sklearn.metrics.pairwise import cosine_similarity\n",
    "from sklearn.feature_extraction.text import CountVectorizer"
   ]
  },
  {
   "cell_type": "code",
   "execution_count": 2,
   "metadata": {},
   "outputs": [],
   "source": [
    "cosine_sim = pd.read_pickle(\"wines_model.pkl\")\n",
    "df3 = pd.read_pickle(\"df3.pkl\")"
   ]
  },
  {
   "cell_type": "code",
   "execution_count": 3,
   "metadata": {},
   "outputs": [
    {
     "data": {
      "text/plain": [
       "array([[1.        , 0.05006262, 0.05564149, ..., 0.1278043 , 0.04588315,\n",
       "        0.09567297],\n",
       "       [0.05006262, 1.        , 0.10585122, ..., 0.        , 0.04364358,\n",
       "        0.04550158],\n",
       "       [0.05564149, 0.10585122, 1.        , ..., 0.1351132 , 0.14552138,\n",
       "        0.10114435],\n",
       "       ...,\n",
       "       [0.1278043 , 0.        , 0.1351132 , ..., 1.        , 0.03713907,\n",
       "        0.03872015],\n",
       "       [0.04588315, 0.04364358, 0.14552138, ..., 0.03713907, 1.        ,\n",
       "        0.04170288],\n",
       "       [0.09567297, 0.04550158, 0.10114435, ..., 0.03872015, 0.04170288,\n",
       "        1.        ]])"
      ]
     },
     "execution_count": 3,
     "metadata": {},
     "output_type": "execute_result"
    }
   ],
   "source": [
    "cosine_sim"
   ]
  },
  {
   "cell_type": "code",
   "execution_count": 4,
   "metadata": {},
   "outputs": [
    {
     "data": {
      "text/html": [
       "<div>\n",
       "<style scoped>\n",
       "    .dataframe tbody tr th:only-of-type {\n",
       "        vertical-align: middle;\n",
       "    }\n",
       "\n",
       "    .dataframe tbody tr th {\n",
       "        vertical-align: top;\n",
       "    }\n",
       "\n",
       "    .dataframe thead th {\n",
       "        text-align: right;\n",
       "    }\n",
       "</style>\n",
       "<table border=\"1\" class=\"dataframe\">\n",
       "  <thead>\n",
       "    <tr style=\"text-align: right;\">\n",
       "      <th></th>\n",
       "      <th>country</th>\n",
       "      <th>winery</th>\n",
       "      <th>Key_words</th>\n",
       "    </tr>\n",
       "    <tr>\n",
       "      <th>variety</th>\n",
       "      <th></th>\n",
       "      <th></th>\n",
       "      <th></th>\n",
       "    </tr>\n",
       "  </thead>\n",
       "  <tbody>\n",
       "    <tr>\n",
       "      <th>White Blend</th>\n",
       "      <td>Italy</td>\n",
       "      <td>Nicosia</td>\n",
       "      <td>[dried, sage, alongside, brisk, acidity, overl...</td>\n",
       "    </tr>\n",
       "    <tr>\n",
       "      <th>Portuguese Red</th>\n",
       "      <td>Portugal</td>\n",
       "      <td>Quinta dos Avidagos</td>\n",
       "      <td>[smooth, freshened, acidity, already, drinkabl...</td>\n",
       "    </tr>\n",
       "    <tr>\n",
       "      <th>Pinot Gris</th>\n",
       "      <td>US</td>\n",
       "      <td>Rainstorm</td>\n",
       "      <td>[crisp, acidity, underscoring, steel, fermente...</td>\n",
       "    </tr>\n",
       "    <tr>\n",
       "      <th>Riesling</th>\n",
       "      <td>US</td>\n",
       "      <td>St. Julian</td>\n",
       "      <td>[lemon, pith, aromas, bit, pineapple, rind, or...</td>\n",
       "    </tr>\n",
       "    <tr>\n",
       "      <th>Pinot Noir</th>\n",
       "      <td>US</td>\n",
       "      <td>Sweet Cheeks</td>\n",
       "      <td>[think, pleasantly, unfussy, country, wine, re...</td>\n",
       "    </tr>\n",
       "  </tbody>\n",
       "</table>\n",
       "</div>"
      ],
      "text/plain": [
       "                 country               winery  \\\n",
       "variety                                         \n",
       "White Blend        Italy              Nicosia   \n",
       "Portuguese Red  Portugal  Quinta dos Avidagos   \n",
       "Pinot Gris            US            Rainstorm   \n",
       "Riesling              US           St. Julian   \n",
       "Pinot Noir            US         Sweet Cheeks   \n",
       "\n",
       "                                                        Key_words  \n",
       "variety                                                            \n",
       "White Blend     [dried, sage, alongside, brisk, acidity, overl...  \n",
       "Portuguese Red  [smooth, freshened, acidity, already, drinkabl...  \n",
       "Pinot Gris      [crisp, acidity, underscoring, steel, fermente...  \n",
       "Riesling        [lemon, pith, aromas, bit, pineapple, rind, or...  \n",
       "Pinot Noir      [think, pleasantly, unfussy, country, wine, re...  "
      ]
     },
     "execution_count": 4,
     "metadata": {},
     "output_type": "execute_result"
    }
   ],
   "source": [
    "df3.head()"
   ]
  },
  {
   "cell_type": "code",
   "execution_count": 5,
   "metadata": {},
   "outputs": [],
   "source": [
    "indices = pd.Series(df3.index)\n",
    "\n",
    "def recommendations(title, cosine_sim = cosine_sim):\n",
    "    recommended_wines = []\n",
    "    idx = indices[indices == title].index[0]\n",
    "    score_series = pd.Series(cosine_sim[idx]).sort_values(ascending = False)\n",
    "    top_5_indexes = list(score_series.iloc[1:6].index)\n",
    "    \n",
    "    for i in top_5_indexes:\n",
    "        recommended_wines.append(list(df3.index)[i])\n",
    "        \n",
    "    return recommended_wines"
   ]
  },
  {
   "cell_type": "code",
   "execution_count": 12,
   "metadata": {},
   "outputs": [],
   "source": [
    "title = \"White Blend\""
   ]
  },
  {
   "cell_type": "code",
   "execution_count": 13,
   "metadata": {},
   "outputs": [
    {
     "data": {
      "text/plain": [
       "['Sauvignon Blanc', 'Inzolia', 'Carricante', 'Pinot Grigio', 'Aglianico']"
      ]
     },
     "execution_count": 13,
     "metadata": {},
     "output_type": "execute_result"
    }
   ],
   "source": [
    "recommendations(title)"
   ]
  },
  {
   "cell_type": "code",
   "execution_count": null,
   "metadata": {},
   "outputs": [],
   "source": []
  }
 ],
 "metadata": {
  "kernelspec": {
   "display_name": "Python 3",
   "language": "python",
   "name": "python3"
  },
  "language_info": {
   "codemirror_mode": {
    "name": "ipython",
    "version": 3
   },
   "file_extension": ".py",
   "mimetype": "text/x-python",
   "name": "python",
   "nbconvert_exporter": "python",
   "pygments_lexer": "ipython3",
   "version": "3.7.1"
  }
 },
 "nbformat": 4,
 "nbformat_minor": 2
}
