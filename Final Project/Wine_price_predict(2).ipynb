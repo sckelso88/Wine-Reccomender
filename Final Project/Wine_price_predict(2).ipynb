{
 "cells": [
  {
   "cell_type": "code",
   "execution_count": 58,
   "metadata": {},
   "outputs": [],
   "source": [
    "import numpy as np\n",
    "import pandas as pd\n",
    "from sklearn.model_selection import train_test_split\n",
    "%matplotlib inline"
   ]
  },
  {
   "cell_type": "code",
   "execution_count": 59,
   "metadata": {
    "_cell_guid": "79c7e3d0-c299-4dcb-8224-4455121ee9b0",
    "_kg_hide-input": false,
    "_uuid": "d629ff2d2480ee46fbb7e2d37f6b5fab8052498a"
   },
   "outputs": [],
   "source": [
    "df = pd.read_csv('wine_data.csv')"
   ]
  },
  {
   "cell_type": "code",
   "execution_count": 60,
   "metadata": {
    "scrolled": false
   },
   "outputs": [],
   "source": [
    "#data = data[[\"country\", \"points\", \"province\", \"variety\", \"winery\", \"price\"]]\n",
    "df = df[[\"country\", \"points\", \"province\", \"variety\", \"price\"]]"
   ]
  },
  {
   "cell_type": "code",
   "execution_count": 61,
   "metadata": {},
   "outputs": [
    {
     "data": {
      "text/html": [
       "<div>\n",
       "<style scoped>\n",
       "    .dataframe tbody tr th:only-of-type {\n",
       "        vertical-align: middle;\n",
       "    }\n",
       "\n",
       "    .dataframe tbody tr th {\n",
       "        vertical-align: top;\n",
       "    }\n",
       "\n",
       "    .dataframe thead th {\n",
       "        text-align: right;\n",
       "    }\n",
       "</style>\n",
       "<table border=\"1\" class=\"dataframe\">\n",
       "  <thead>\n",
       "    <tr style=\"text-align: right;\">\n",
       "      <th></th>\n",
       "      <th>country</th>\n",
       "      <th>points</th>\n",
       "      <th>province</th>\n",
       "      <th>variety</th>\n",
       "      <th>price</th>\n",
       "    </tr>\n",
       "  </thead>\n",
       "  <tbody>\n",
       "    <tr>\n",
       "      <th>1</th>\n",
       "      <td>Portugal</td>\n",
       "      <td>87</td>\n",
       "      <td>Douro</td>\n",
       "      <td>Portuguese Red</td>\n",
       "      <td>15.0</td>\n",
       "    </tr>\n",
       "    <tr>\n",
       "      <th>2</th>\n",
       "      <td>US</td>\n",
       "      <td>87</td>\n",
       "      <td>Oregon</td>\n",
       "      <td>Pinot Gris</td>\n",
       "      <td>14.0</td>\n",
       "    </tr>\n",
       "    <tr>\n",
       "      <th>3</th>\n",
       "      <td>US</td>\n",
       "      <td>87</td>\n",
       "      <td>Michigan</td>\n",
       "      <td>Riesling</td>\n",
       "      <td>13.0</td>\n",
       "    </tr>\n",
       "    <tr>\n",
       "      <th>4</th>\n",
       "      <td>US</td>\n",
       "      <td>87</td>\n",
       "      <td>Oregon</td>\n",
       "      <td>Pinot Noir</td>\n",
       "      <td>65.0</td>\n",
       "    </tr>\n",
       "    <tr>\n",
       "      <th>5</th>\n",
       "      <td>Spain</td>\n",
       "      <td>87</td>\n",
       "      <td>Northern Spain</td>\n",
       "      <td>Tempranillo-Merlot</td>\n",
       "      <td>15.0</td>\n",
       "    </tr>\n",
       "  </tbody>\n",
       "</table>\n",
       "</div>"
      ],
      "text/plain": [
       "    country  points        province             variety  price\n",
       "1  Portugal      87           Douro      Portuguese Red   15.0\n",
       "2        US      87          Oregon          Pinot Gris   14.0\n",
       "3        US      87        Michigan            Riesling   13.0\n",
       "4        US      87          Oregon          Pinot Noir   65.0\n",
       "5     Spain      87  Northern Spain  Tempranillo-Merlot   15.0"
      ]
     },
     "execution_count": 61,
     "metadata": {},
     "output_type": "execute_result"
    }
   ],
   "source": [
    "df=df.dropna()\n",
    "df.head()"
   ]
  },
  {
   "cell_type": "code",
   "execution_count": 62,
   "metadata": {},
   "outputs": [
    {
     "data": {
      "text/plain": [
       "12785    12785\n",
       "11077    11077\n",
       "9384      9384\n",
       "8466      8466\n",
       "5340      5340\n",
       "4971      4971\n",
       "4780      4780\n",
       "4086      4086\n",
       "3261      3261\n",
       "3061      3061\n",
       "2708      2708\n",
       "2593      2593\n",
       "2377      2377\n",
       "2331      2331\n",
       "2196      2196\n",
       "2167      2167\n",
       "2027      2027\n",
       "1788      1788\n",
       "1404      1404\n",
       "1388      1388\n",
       "1304      1304\n",
       "1211      1211\n",
       "1145      1145\n",
       "1002      1002\n",
       "986        986\n",
       "985        985\n",
       "955        955\n",
       "836        836\n",
       "821        821\n",
       "768        768\n",
       "         ...  \n",
       "33          99\n",
       "24          96\n",
       "93          93\n",
       "43          86\n",
       "28          84\n",
       "83          83\n",
       "9           81\n",
       "40          80\n",
       "78          78\n",
       "38          76\n",
       "74          74\n",
       "10          70\n",
       "68          68\n",
       "65          65\n",
       "63          63\n",
       "61          61\n",
       "59          59\n",
       "58          58\n",
       "29          58\n",
       "57          57\n",
       "19          57\n",
       "14          56\n",
       "53          53\n",
       "49          49\n",
       "48          48\n",
       "44          44\n",
       "41          41\n",
       "39          39\n",
       "30          30\n",
       "25          25\n",
       "Name: variety_count, Length: 147, dtype: int64"
      ]
     },
     "execution_count": 62,
     "metadata": {},
     "output_type": "execute_result"
    }
   ],
   "source": [
    "df['variety_count']= df.variety.map(df.variety.value_counts())\n",
    "data = df[df.variety_count != 1]\n",
    "data.variety_count.value_counts()"
   ]
  },
  {
   "cell_type": "code",
   "execution_count": 63,
   "metadata": {
    "_uuid": "0febd7d559d0a0325aa7839b78e03c1591b10ed5"
   },
   "outputs": [
    {
     "name": "stdout",
     "output_type": "stream",
     "text": [
      "['Argentina' 'Armenia' 'Australia' 'Austria' 'Bosnia and Herzegovina'\n",
      " 'Brazil' 'Bulgaria' 'Canada' 'Chile' 'China' 'Croatia' 'Cyprus'\n",
      " 'Czech Republic' 'England' 'France' 'Georgia' 'Germany' 'Greece'\n",
      " 'Hungary' 'India' 'Israel' 'Italy' 'Lebanon' 'Luxembourg' 'Macedonia'\n",
      " 'Mexico' 'Moldova' 'Morocco' 'New Zealand' 'Peru' 'Portugal' 'Romania'\n",
      " 'Serbia' 'Slovakia' 'Slovenia' 'South Africa' 'Spain' 'Switzerland'\n",
      " 'Turkey' 'US' 'Ukraine' 'Uruguay']\n"
     ]
    },
    {
     "name": "stderr",
     "output_type": "stream",
     "text": [
      "/anaconda3/envs/PythonData/lib/python3.6/site-packages/ipykernel_launcher.py:9: SettingWithCopyWarning: \n",
      "A value is trying to be set on a copy of a slice from a DataFrame.\n",
      "Try using .loc[row_indexer,col_indexer] = value instead\n",
      "\n",
      "See the caveats in the documentation: http://pandas.pydata.org/pandas-docs/stable/indexing.html#indexing-view-versus-copy\n",
      "  if __name__ == '__main__':\n"
     ]
    },
    {
     "name": "stdout",
     "output_type": "stream",
     "text": [
      "['Achaia' 'Aconcagua Costa' 'Aconcagua Valley' 'Aegean' 'Agioritikos'\n",
      " 'Ahr' 'Alenquer' 'Alentejano' 'Alentejo' 'Alenteo' 'Algarve' 'Alsace'\n",
      " 'America' 'Amindeo' 'Amyndeon' 'Andalucia' 'Ankara' 'Apalta' 'Arcadia'\n",
      " 'Arizona' 'Armenia' 'Atalanti Valley' 'Atlantida' 'Attica'\n",
      " 'Australia Other' 'Austria' 'Awatere Valley' 'Baden' 'Bairrada'\n",
      " 'Beaujolais' 'Beira Atlantico' 'Beira Interior' 'Beiras' 'Bekaa Valley'\n",
      " 'Beotia' 'Black Sea Coastal' 'Bordeaux' 'Bot River' 'Brazil' 'Brda'\n",
      " 'Breede River Valley' 'Breedekloof' 'British Columbia' 'Bucelas' 'Buin'\n",
      " 'Bulgaria' 'Burgenland' 'Burgundy' 'Bío Bío Valley' 'Cachapoal Valley'\n",
      " 'Cahul' 'California' 'Campanha' 'Canada Other' 'Canelones' 'Canterbury'\n",
      " 'Cape Agulhas' 'Cape Peninsula' 'Cape South Coast' 'Cappadocia'\n",
      " 'Carnuntum' 'Casablanca & Leyda Valleys' 'Casablanca Valley'\n",
      " 'Casablanca-Curicó Valley' 'Catalonia' 'Cauquenes Valley' 'Cederberg'\n",
      " 'Central Italy' 'Central Otago' 'Central Spain' 'Central Valley'\n",
      " 'Cephalonia' 'Chalkidiki' 'Champagne' 'Chile' 'China' 'Choapa Valley'\n",
      " 'Coastal Region' 'Codru Region' 'Coelemu' 'Colares' 'Colchagua Costa'\n",
      " 'Colchagua Valley' 'Colorado' 'Commandaria' 'Connecticut' 'Constantia'\n",
      " 'Corinth' 'Corinthia' 'Crete' 'Croatia' 'Curicó Valley'\n",
      " 'Curicó and Leyda Valleys' 'Curicó and Maipo Valleys' 'Cyclades' 'Cyprus'\n",
      " 'Dalmatian Coast' 'Dan' 'Danube River Plains' 'Darling' 'Dealu Mare'\n",
      " 'Dealurile Hușilor' 'Dealurile Munteniei' 'Devon Valley' 'Dingač'\n",
      " 'Dolenjska' 'Douro' 'Drama' 'Durbanville' 'Duriense' 'Dão' 'East Coast'\n",
      " 'Eger' 'Eilandia' 'Eisenberg' 'Elazığ' 'Elazığ-Diyarbakir' 'Elgin' 'Elim'\n",
      " 'Ella Valley' 'Elqui Valley' 'England' 'Epanomi' 'Estremadura' 'Florina'\n",
      " 'France Other' 'Franken' 'Franschhoek' 'Fruška Gora' 'Galicia' 'Galil'\n",
      " 'Galilee' 'Georgia' 'Germany' 'Gisborne' 'Gladstone' 'Golan Heights'\n",
      " 'Goriska Brda' 'Goumenissa' 'Greece' 'Groenekloof' 'Guerrouane'\n",
      " 'Halkidiki' 'Haut-Judeé' 'Hawaii' \"Hawke's Bay\" 'Helderberg'\n",
      " 'Hemel en Aarde' 'Hrvatsko Primorje' 'Hungary' 'Hvar' 'Ica' 'Idaho'\n",
      " 'Illinois' 'Imathia' 'Iowa' 'Ismarikos' 'Israel' 'Istria' 'Italy Other'\n",
      " 'Itata Valley' 'Jerusalem Hills' 'Jidvei' 'Jonkershoek Valley' 'Juanico'\n",
      " 'Judean Hills' 'Kakheti' 'Kamptal' 'Kathikas' 'Kentucky' 'Korinthia'\n",
      " 'Korčula' 'Krania Olympus' 'Kras' 'Kremstal' 'Krk' 'Kumeu' 'Kutjevo'\n",
      " 'Lakonia' 'Landwein Rhein' 'Languedoc-Roussillon' 'Lebanon' 'Leithaberg'\n",
      " 'Lemesos' 'Lesbos' 'Letrinon' 'Levante' 'Leyda Valley'\n",
      " 'Leyda Valley-Maipo Valley' 'Limarí Valley' 'Limnos' 'Lisboa'\n",
      " 'Loire Valley' 'Lolol Valley' 'Lombardy' 'Loncomilla Valley'\n",
      " 'Lontué Valley' 'Lutzville Valley' 'Macedonia' 'Madeira' 'Maipo Valley'\n",
      " 'Maipo Valley-Colchagua Valley' 'Malgas' 'Malleco' 'Mantinia' 'Marchigue'\n",
      " 'Markopoulo' 'Marlborough' 'Martinborough' 'Massachusetts' 'Maule Valley'\n",
      " 'Mavrodaphne de Cephalonie' 'Mavrodaphne of Patras' 'Mendoza Province'\n",
      " 'Messinia' 'Michigan' 'Middle and South Dalmatia' 'Minho' 'Missouri'\n",
      " 'Mittelburgenland' 'Mittelrhein' 'Moldova' 'Molina' 'Monemvasia'\n",
      " 'Montevideo' 'Moravia' 'Morocco' 'Moscatel de Setúbal'\n",
      " 'Moscatel do Douro' 'Mosel' 'Mosel-Saar-Ruwer' 'Moselle Luxembourgeoise'\n",
      " 'Mostar' 'Mount Athos' 'Murfatlar' 'Muscat of Kefallonian'\n",
      " 'Muscat of Patras' 'Muzla' 'Mátra' 'Nahe' 'Naoussa' 'Nashik' 'Negev'\n",
      " 'Negev Hills' 'Nelson' 'Nemea' 'Neuchâtel' 'Neusiedlersee' 'Nevada'\n",
      " 'New Jersey' 'New Mexico' 'New South Wales' 'New York' 'New Zealand'\n",
      " 'Niederösterreich' 'North Carolina' 'North Dalmatia' 'Northeastern Italy'\n",
      " 'Northern Cape' 'Northern Spain' 'Northwestern Italy' 'Obidos' 'Ohio'\n",
      " 'Olifants River' 'Ontario' 'Oregon' 'Other' 'Overberg' 'Paardeberg'\n",
      " 'Paarl' 'Pafos' 'Pageon' 'Palmela' 'Panciu' 'Pangeon' 'Patras' 'Peljesac'\n",
      " 'Peloponnese' 'Pennsylvania' 'Península de Setúbal' 'Peumo' 'Pfalz'\n",
      " 'Philadelphia' 'Piedmont' 'Pinto Bandeira' 'Pirque' 'Pitsilia Mountains'\n",
      " 'Podunavlje' 'Polkadraai Hills' 'Port' 'Portugal' 'Portuguese Table Wine'\n",
      " 'Primorska' 'Progreso' 'Provence' 'Puente Alto' 'Rapel Valley' 'Rapsani'\n",
      " 'Recas' 'Requinoa' 'Retsina' 'Rheingau' 'Rheinhessen' 'Rhode Island'\n",
      " 'Rhône Valley' 'Ribatejano' 'Ribatejo' 'Rio Claro' 'Robertson' 'Romania'\n",
      " 'Sagrada Familia' 'Samos' 'Samson' 'San Antonio'\n",
      " 'San Antonio de las Minas Valley' 'San Clemente' 'San Jose' 'San Vicente'\n",
      " 'Santa Catarina' 'Santa Cruz' 'Santorini' 'Sebes' 'Serra Gaúcha'\n",
      " 'Serra do Sudeste' 'Setubal' 'Shomron' 'Sicily & Sardinia'\n",
      " 'Simonsberg-Paarl' 'Simonsberg-Stellenbosch' 'Sithonia' 'Slovenia'\n",
      " 'Slovenska Istra' 'Sopron' 'South Africa' 'South Australia'\n",
      " 'South Island' 'Southern Italy' 'Southwest France' 'Spain Other'\n",
      " 'Spanish Islands' 'Steiermark' 'Stellenbosch' 'Sterea Ellada' 'Swartland'\n",
      " 'Switzerland' 'Szekszárd' 'Südburgenland' 'Südoststeiermark'\n",
      " 'Südsteiermark' 'Table wine' 'Tarnave' 'Tasmania' 'Tejo' 'Terras do Dão'\n",
      " 'Terras do Sado' 'Texas' 'Thermenregion' 'Thessalikos' 'Thrace'\n",
      " 'Thracian Valley' 'Ticino' 'Tikves' 'Tokaj' 'Tokaji' 'Traisental'\n",
      " 'Trás-os-Montes' 'Tulbagh' 'Turkey' 'Tuscany' 'Távora-Varosa' 'Ukraine'\n",
      " 'Upper Galilee' 'Urla-Thrace' 'Uruguay' 'Valais' 'Vale Trentino'\n",
      " 'Vale dos Vinhedos' 'Valle de Guadalupe' 'Veneto' 'Vermont' 'Victoria'\n",
      " 'Vienna' 'Viile Timis' 'Viile Timisului' 'Villány'\n",
      " 'Vin de Pays de Velvendo' 'Vinho Espumante'\n",
      " 'Vinho Espumante de Qualidade' 'Vinho Licoroso' 'Vinho Verde'\n",
      " 'Vinho da Mesa' 'Vipavska Dolina' 'Virginia' 'Vlootenburg' 'Vânju Mare'\n",
      " 'Wachau' 'Wagram' 'Wagram-Donauland' 'Waiheke Island' 'Waipara'\n",
      " 'Waipara Valley' 'Wairarapa' 'Wairau Valley' 'Waitaki Valley'\n",
      " 'Walker Bay' 'Washington' 'Washington-Oregon' 'Weinland Österreich'\n",
      " 'Weinviertel' 'Wellington' 'Western Australia' 'Western Cape'\n",
      " 'Wiener Gemischter Satz' 'Württemberg' 'Zenata'\n",
      " 'Österreichischer Perlwein' 'Österreichischer Sekt' 'Štajerska' 'Župa']\n",
      "['Abouriou' 'Agiorgitiko' 'Aglianico' 'Airen' 'Albana' 'Albariño'\n",
      " 'Albarossa' 'Aleatico' 'Alfrocheiro' 'Alicante' 'Alicante Bouschet'\n",
      " 'Aligoté' 'Alsace white blend' 'Altesse' 'Alvarelhão' 'Alvarinho'\n",
      " 'Alvarinho-Chardonnay' 'Ansonica' 'Antão Vaz' 'Apple' 'Aragonez'\n",
      " 'Aragonês' 'Argaman' 'Arinto' 'Arneis' 'Assyrtico' 'Assyrtiko'\n",
      " 'Austrian Red Blend' 'Austrian white blend' 'Auxerrois' 'Avesso' 'Azal'\n",
      " 'Babić' 'Baco Noir' 'Baga' 'Baga-Touriga Nacional' 'Barbera' 'Bastardo'\n",
      " 'Bical' 'Black Monukka' 'Black Muscat' 'Blanc du Bois'\n",
      " 'Blauer Portugieser' 'Blaufränkisch' 'Bobal' 'Bonarda'\n",
      " 'Bordeaux-style Red Blend' 'Bordeaux-style White Blend' 'Bovale'\n",
      " 'Boğazkere' 'Brachetto' 'Braucol' 'Bual' 'Cabernet' 'Cabernet Blend'\n",
      " 'Cabernet Franc' 'Cabernet Franc-Cabernet Sauvignon'\n",
      " 'Cabernet Franc-Carmenère' 'Cabernet Franc-Lemberger'\n",
      " 'Cabernet Franc-Malbec' 'Cabernet Franc-Merlot' 'Cabernet Merlot'\n",
      " 'Cabernet Moravia' 'Cabernet Pfeffer' 'Cabernet Sauvignon'\n",
      " 'Cabernet Sauvignon Grenache' 'Cabernet Sauvignon-Cabernet Franc'\n",
      " 'Cabernet Sauvignon-Carmenère' 'Cabernet Sauvignon-Malbec'\n",
      " 'Cabernet Sauvignon-Merlot' 'Cabernet Sauvignon-Merlot-Shiraz'\n",
      " 'Cabernet Sauvignon-Sangiovese' 'Cabernet Sauvignon-Shiraz'\n",
      " 'Cabernet Sauvignon-Syrah' 'Cabernet Sauvignon-Tempranillo'\n",
      " 'Cabernet-Shiraz' 'Cabernet-Syrah' 'Canaiolo' 'Cannonau' 'Carignan'\n",
      " 'Carignan-Grenache' 'Carignan-Syrah' 'Carignane' 'Carignano' 'Carineña'\n",
      " 'Cariñena-Garnacha' 'Carmenère' 'Carmenère-Cabernet Sauvignon'\n",
      " 'Carmenère-Syrah' 'Carricante' 'Casavecchia' 'Castelão' 'Catarratto'\n",
      " 'Cayuga' 'Cerceal' 'Cesanese' \"Cesanese d'Affile\" 'Chambourcin'\n",
      " 'Champagne Blend' 'Chancellor' 'Charbono' 'Chardonnay'\n",
      " 'Chardonnay Weissburgunder' 'Chardonnay-Albariño'\n",
      " 'Chardonnay-Pinot Blanc' 'Chardonnay-Sauvignon'\n",
      " 'Chardonnay-Sauvignon Blanc' 'Chardonnay-Semillon' 'Chardonnay-Viognier'\n",
      " 'Chasselas' 'Chelois' 'Chenin Blanc' 'Chenin Blanc-Chardonnay'\n",
      " 'Chenin Blanc-Sauvignon Blanc' 'Chenin Blanc-Viognier' 'Chinuri'\n",
      " 'Ciliegiolo' 'Cinsault' 'Clairette' 'Claret' 'Coda di Volpe' 'Colombard'\n",
      " 'Colombard-Sauvignon Blanc' 'Colombard-Ugni Blanc' 'Cortese' 'Corvina'\n",
      " 'Corvina, Rondinella, Molinara' 'Counoise' 'Códega do Larinho' 'Debit'\n",
      " 'Dolcetto' 'Dornfelder' 'Duras' 'Durella' 'Durif' 'Edelzwicker' 'Elbling'\n",
      " 'Emir' 'Encruzado' 'Erbaluce' 'Falanghina' 'Fer Servadou' 'Fernão Pires'\n",
      " 'Feteasca' 'Feteasca Neagra' 'Feteascǎ Regalǎ' 'Fiano' 'Frappato'\n",
      " 'Freisa' 'Friulano' 'Fumé Blanc' 'Furmint' 'G-S-M' 'Gaglioppo' 'Gamay'\n",
      " 'Gamay Noir' 'Garganega' 'Garnacha' 'Garnacha Blanca' 'Garnacha Blend'\n",
      " 'Garnacha Tintorera' 'Garnacha-Monastrell' 'Garnacha-Syrah'\n",
      " 'Garnacha-Tempranillo' 'Gelber Muskateller' 'Gewürztraminer'\n",
      " 'Gewürztraminer-Riesling' 'Glera' 'Godello' 'Gouveio' 'Graciano'\n",
      " 'Gragnano' 'Grauburgunder' 'Grecanico' 'Grechetto' 'Greco' 'Greco Bianco'\n",
      " 'Grenache' 'Grenache Blanc' 'Grenache Blend' 'Grenache Noir'\n",
      " 'Grenache-Carignan' 'Grenache-Mourvèdre' 'Grenache-Shiraz'\n",
      " 'Grenache-Syrah' 'Grillo' 'Grolleau' 'Groppello' 'Gros Manseng'\n",
      " 'Gros and Petit Manseng' 'Grüner Veltliner' 'Hondarrabi Zuri'\n",
      " 'Hárslevelü' 'Incrocio Manzoni' 'Insolia' 'Inzolia' 'Jacquez' 'Jacquère'\n",
      " 'Jaen' 'Johannisberg Riesling' 'Kadarka' 'Kalecik Karasi' 'Kekfrankos'\n",
      " 'Kerner' 'Kisi' 'Lagrein' 'Lambrusco' 'Lambrusco Grasparossa'\n",
      " 'Lambrusco Salamino' 'Lambrusco di Sorbara' 'Lemberger' 'Listán Negro'\n",
      " \"Loin de l'Oeil\" 'Loureiro' 'Macabeo' 'Macabeo-Chardonnay'\n",
      " 'Madeira Blend' 'Madeleine Angevine' 'Magliocco' 'Malagousia'\n",
      " 'Malagouzia' 'Malbec' 'Malbec Blend' 'Malbec-Bonarda' 'Malbec-Cabernet'\n",
      " 'Malbec-Cabernet Franc' 'Malbec-Cabernet Sauvignon' 'Malbec-Merlot'\n",
      " 'Malbec-Petit Verdot' 'Malbec-Syrah' 'Malbec-Tannat' 'Malbec-Tempranillo'\n",
      " 'Malvar' 'Malvasia' 'Malvasia Bianca' 'Malvasia Fina' 'Malvasia Istriana'\n",
      " 'Malvasia Nera' 'Malvasia di Candia' 'Malvasia-Viura' 'Mandilaria'\n",
      " 'Mansois' 'Mantonico' 'Manzoni' 'Marawi' 'Maria Gomes' 'Marquette'\n",
      " 'Marsanne' 'Marsanne-Roussanne' 'Marsanne-Viognier' 'Marselan'\n",
      " 'Marzemino' 'Mataro' 'Maturana' 'Mauzac' 'Mavrodaphne' 'Mavrud' 'Mazuelo'\n",
      " 'Melon' 'Mencía' 'Meritage' 'Merlot' 'Merlot-Cabernet'\n",
      " 'Merlot-Cabernet Franc' 'Merlot-Cabernet Sauvignon' 'Merlot-Malbec'\n",
      " 'Merlot-Syrah' 'Merlot-Tannat' 'Mission' 'Monastrell'\n",
      " 'Monastrell-Petit Verdot' 'Monastrell-Syrah' 'Mondeuse' 'Monica'\n",
      " 'Montepulciano' 'Morillon' 'Morio Muskat' 'Moscadello' 'Moscatel'\n",
      " 'Moscatel Graúdo' 'Moscatel Roxo' 'Moscatel de Alejandría' 'Moscato'\n",
      " 'Moscato Giallo' 'Moscato Rosa' 'Moschofilero' 'Mourvèdre'\n",
      " 'Mourvèdre-Syrah' 'Mtsvane' 'Muscadelle' 'Muscadine' 'Muscat'\n",
      " 'Muscat Blanc' 'Muscat Blanc à Petits Grains' 'Muscat Canelli'\n",
      " 'Muscat Hamburg' \"Muscat d'Alexandrie\" 'Muscat of Alexandria' 'Muscatel'\n",
      " 'Muskat' 'Muskat Ottonel' 'Muskateller' 'Müller-Thurgau' 'Narince'\n",
      " 'Nascetta' 'Nasco' 'Nebbiolo' 'Negrette' 'Negroamaro' 'Nerello Cappuccio'\n",
      " 'Nerello Mascalese' \"Nero d'Avola\" 'Nero di Troia' 'Neuburger'\n",
      " 'Nielluciu' 'Norton' 'Nosiola' 'Nuragus' 'Okuzgozu' 'Orange Muscat'\n",
      " 'Other' 'Pallagrello' 'Pallagrello Bianco' 'Pallagrello Nero' 'Palomino'\n",
      " 'Pansa Blanca' 'Papaskarasi' 'Passerina' 'Pecorino' 'Pedro Ximénez'\n",
      " 'Perricone' 'Petit Manseng' 'Petit Verdot' 'Petite Sirah' 'Petite Verdot'\n",
      " 'Picolit' 'Picpoul' 'Piedirosso' 'Pigato' 'Pignoletto' 'Pinot Auxerrois'\n",
      " 'Pinot Bianco' 'Pinot Blanc' 'Pinot Blanc-Chardonnay' 'Pinot Grigio'\n",
      " 'Pinot Gris' 'Pinot Meunier' 'Pinot Nero' 'Pinot Noir' 'Pinot Noir-Gamay'\n",
      " 'Pinot Noir-Syrah' 'Pinot-Chardonnay' 'Pinotage' 'Plavac Mali' 'Plyto'\n",
      " 'Port' 'Portuguese Red' 'Portuguese Rosé' 'Portuguese Sparkling'\n",
      " 'Portuguese White' 'Portuguiser' 'Posip' 'Poulsard' 'Prieto Picudo'\n",
      " 'Primitivo' 'Prié Blanc' 'Prosecco' 'Provence red blend'\n",
      " 'Provence white blend' 'Prugnolo Gentile' 'Pugnitello' 'Rabigato'\n",
      " 'Raboso' 'Rara Neagra' 'Rebo' 'Rebula' 'Red Blend' 'Refosco'\n",
      " 'Rhône-style Red Blend' 'Rhône-style White Blend' 'Ribolla Gialla'\n",
      " 'Rieslaner' 'Riesling' 'Rivaner' 'Rkatsiteli' 'Robola' 'Roditis' 'Rolle'\n",
      " 'Romorantin' 'Rosado' 'Rosato' 'Rosé' 'Roter Traminer' 'Roter Veltliner'\n",
      " 'Rotgipfler' 'Roussanne' 'Roussanne-Marsanne' 'Roussanne-Viognier'\n",
      " 'Ruché' 'Rufete' 'Sagrantino' 'Sangiovese' 'Sangiovese Cabernet'\n",
      " 'Sangiovese Grosso' 'Sangiovese-Cabernet Sauvignon' 'Sangiovese-Syrah'\n",
      " 'Saperavi' 'Saperavi-Merlot' 'Sauvignon' 'Sauvignon Blanc'\n",
      " 'Sauvignon Blanc-Chardonnay' 'Sauvignon Blanc-Chenin Blanc'\n",
      " 'Sauvignon Blanc-Semillon' 'Sauvignon Blanc-Verdejo' 'Sauvignon Gris'\n",
      " 'Savagnin' 'Savatiano' 'Scheurebe' 'Schiava' 'Sciaccerellu'\n",
      " 'Semillon-Chardonnay' 'Semillon-Sauvignon Blanc' 'Seyval Blanc' 'Sherry'\n",
      " 'Shiraz' 'Shiraz-Cabernet' 'Shiraz-Cabernet Sauvignon' 'Shiraz-Grenache'\n",
      " 'Shiraz-Malbec' 'Shiraz-Mourvèdre' 'Shiraz-Tempranillo' 'Shiraz-Viognier'\n",
      " 'Silvaner' 'Siria' 'Sirica' 'Sousão' 'Souzao' 'Sparkling Blend'\n",
      " 'Spätburgunder' 'St. Laurent' 'Susumaniello' 'Sylvaner' 'Symphony'\n",
      " 'Syrah' 'Syrah-Cabernet' 'Syrah-Cabernet Franc'\n",
      " 'Syrah-Cabernet Sauvignon' 'Syrah-Carignan' 'Syrah-Grenache'\n",
      " 'Syrah-Merlot' 'Syrah-Mourvèdre' 'Syrah-Petit Verdot'\n",
      " 'Syrah-Petite Sirah' 'Syrah-Tempranillo' 'Syrah-Viognier' 'Sämling'\n",
      " 'Sémillon' 'Tamjanika' 'Tannat' 'Tannat-Cabernet' 'Tannat-Cabernet Franc'\n",
      " 'Tannat-Merlot' 'Tannat-Syrah' 'Tempranillo' 'Tempranillo Blanco'\n",
      " 'Tempranillo Blend' 'Tempranillo-Cabernet Sauvignon'\n",
      " 'Tempranillo-Garnacha' 'Tempranillo-Merlot' 'Tempranillo-Shiraz'\n",
      " 'Tempranillo-Syrah' 'Teran' 'Teroldego' 'Timorasso' 'Tinta Barroca'\n",
      " 'Tinta Cao' 'Tinta Fina' 'Tinta Francisca' 'Tinta Miúda' 'Tinta Roriz'\n",
      " 'Tinta de Toro' 'Tinta del Pais' 'Tinta del Toro' 'Tinto Fino'\n",
      " 'Tinto del Pais' 'Tocai' 'Tocai Friulano' 'Tokaji' 'Tokay' 'Torbato'\n",
      " 'Torrontés' 'Touriga' 'Touriga Franca' 'Touriga Nacional'\n",
      " 'Touriga Nacional Blend' 'Touriga Nacional-Cabernet Sauvignon' 'Traminer'\n",
      " 'Traminette' 'Trebbiano' 'Trebbiano Spoletino' 'Trebbiano di Lugana'\n",
      " 'Treixadura' 'Trepat' 'Trincadeira' 'Trollinger' 'Trousseau'\n",
      " 'Trousseau Gris' 'Turbiana' 'Tămâioasă Românească' 'Ugni Blanc'\n",
      " 'Ugni Blanc-Colombard' 'Uva di Troia' 'Uvalino' 'Valdiguié' 'Veltliner'\n",
      " 'Verdeca' 'Verdejo' 'Verdejo-Sauvignon Blanc' 'Verdejo-Viura' 'Verdelho'\n",
      " 'Verdicchio' 'Verduzzo' 'Verduzzo Friulano ' 'Vermentino' 'Vernaccia'\n",
      " 'Vespolina' 'Vidal' 'Vidal Blanc' 'Vignoles' 'Vilana' 'Vinhão' 'Viognier'\n",
      " 'Viognier-Chardonnay' 'Viognier-Gewürztraminer' 'Viognier-Grenache Blanc'\n",
      " 'Viognier-Marsanne' 'Viognier-Roussanne' 'Viosinho' 'Vitovska' 'Viura'\n",
      " 'Viura-Chardonnay' 'Viura-Verdejo' 'Vranec' 'Weissburgunder'\n",
      " 'Welschriesling' 'White Blend' 'White Riesling' 'Xarel-lo' 'Xinomavro'\n",
      " 'Xynisteri' 'Yapincak' 'Zibibbo' 'Zierfandler' 'Zierfandler-Rotgipfler'\n",
      " 'Zinfandel' 'Zlahtina' 'Zweigelt' 'Çalkarası']\n"
     ]
    }
   ],
   "source": [
    "from sklearn.preprocessing import LabelEncoder\n",
    "\n",
    "list_of_feaatures_to_encode = [\"country\", \"province\", \"variety\"]\n",
    "le = LabelEncoder()\n",
    "\n",
    "for i in list_of_feaatures_to_encode:\n",
    "    enc = le.fit(np.unique(data[i].values))\n",
    "    print(enc.classes_)\n",
    "    data[i] = le.fit_transform(data[i])"
   ]
  },
  {
   "cell_type": "code",
   "execution_count": 64,
   "metadata": {},
   "outputs": [
    {
     "name": "stdout",
     "output_type": "stream",
     "text": [
      "[ 0  1  2  3  4  5  6  7  8  9 10 11 12 13 14 15 16 17 18 19 20 21 22 23\n",
      " 24 25 26 27 28 29 30 31 32 33 34 35 36 37 38 39 40 41]\n",
      "[  0   1   2   3   4   5   6   7   8   9  10  11  12  13  14  15  16  17\n",
      "  18  19  20  21  22  23  24  25  26  27  28  29  30  31  32  33  34  35\n",
      "  36  37  38  39  40  41  42  43  44  45  46  47  48  49  50  51  52  53\n",
      "  54  55  56  57  58  59  60  61  62  63  64  65  66  67  68  69  70  71\n",
      "  72  73  74  75  76  77  78  79  80  81  82  83  84  85  86  87  88  89\n",
      "  90  91  92  93  94  95  96  97  98  99 100 101 102 103 104 105 106 107\n",
      " 108 109 110 111 112 113 114 115 116 117 118 119 120 121 122 123 124 125\n",
      " 126 127 128 129 130 131 132 133 134 135 136 137 138 139 140 141 142 143\n",
      " 144 145 146 147 148 149 150 151 152 153 154 155 156 157 158 159 160 161\n",
      " 162 163 164 165 166 167 168 169 170 171 172 173 174 175 176 177 178 179\n",
      " 180 181 182 183 184 185 186 187 188 189 190 191 192 193 194 195 196 197\n",
      " 198 199 200 201 202 203 204 205 206 207 208 209 210 211 212 213 214 215\n",
      " 216 217 218 219 220 221 222 223 224 225 226 227 228 229 230 231 232 233\n",
      " 234 235 236 237 238 239 240 241 242 243 244 245 246 247 248 249 250 251\n",
      " 252 253 254 255 256 257 258 259 260 261 262 263 264 265 266 267 268 269\n",
      " 270 271 272 273 274 275 276 277 278 279 280 281 282 283 284 285 286 287\n",
      " 288 289 290 291 292 293 294 295 296 297 298 299 300 301 302 303 304 305\n",
      " 306 307 308 309 310 311 312 313 314 315 316 317 318 319 320 321 322 323\n",
      " 324 325 326 327 328 329 330 331 332 333 334 335 336 337 338 339 340 341\n",
      " 342 343 344 345 346 347 348 349 350 351 352 353 354 355 356 357 358 359\n",
      " 360 361 362 363 364 365 366 367 368 369 370 371 372 373 374 375 376 377\n",
      " 378 379 380 381 382 383 384 385 386 387 388 389 390 391 392 393 394 395\n",
      " 396 397 398 399 400 401 402 403 404 405 406 407 408 409 410 411 412 413\n",
      " 414 415 416 417 418]\n",
      "[  0   1   2   3   4   5   6   7   8   9  10  11  12  13  14  15  16  17\n",
      "  18  19  20  21  22  23  24  25  26  27  28  29  30  31  32  33  34  35\n",
      "  36  37  38  39  40  41  42  43  44  45  46  47  48  49  50  51  52  53\n",
      "  54  55  56  57  58  59  60  61  62  63  64  65  66  67  68  69  70  71\n",
      "  72  73  74  75  76  77  78  79  80  81  82  83  84  85  86  87  88  89\n",
      "  90  91  92  93  94  95  96  97  98  99 100 101 102 103 104 105 106 107\n",
      " 108 109 110 111 112 113 114 115 116 117 118 119 120 121 122 123 124 125\n",
      " 126 127 128 129 130 131 132 133 134 135 136 137 138 139 140 141 142 143\n",
      " 144 145 146 147 148 149 150 151 152 153 154 155 156 157 158 159 160 161\n",
      " 162 163 164 165 166 167 168 169 170 171 172 173 174 175 176 177 178 179\n",
      " 180 181 182 183 184 185 186 187 188 189 190 191 192 193 194 195 196 197\n",
      " 198 199 200 201 202 203 204 205 206 207 208 209 210 211 212 213 214 215\n",
      " 216 217 218 219 220 221 222 223 224 225 226 227 228 229 230 231 232 233\n",
      " 234 235 236 237 238 239 240 241 242 243 244 245 246 247 248 249 250 251\n",
      " 252 253 254 255 256 257 258 259 260 261 262 263 264 265 266 267 268 269\n",
      " 270 271 272 273 274 275 276 277 278 279 280 281 282 283 284 285 286 287\n",
      " 288 289 290 291 292 293 294 295 296 297 298 299 300 301 302 303 304 305\n",
      " 306 307 308 309 310 311 312 313 314 315 316 317 318 319 320 321 322 323\n",
      " 324 325 326 327 328 329 330 331 332 333 334 335 336 337 338 339 340 341\n",
      " 342 343 344 345 346 347 348 349 350 351 352 353 354 355 356 357 358 359\n",
      " 360 361 362 363 364 365 366 367 368 369 370 371 372 373 374 375 376 377\n",
      " 378 379 380 381 382 383 384 385 386 387 388 389 390 391 392 393 394 395\n",
      " 396 397 398 399 400 401 402 403 404 405 406 407 408 409 410 411 412 413\n",
      " 414 415 416 417 418 419 420 421 422 423 424 425 426 427 428 429 430 431\n",
      " 432 433 434 435 436 437 438 439 440 441 442 443 444 445 446 447 448 449\n",
      " 450 451 452 453 454 455 456 457 458 459 460 461 462 463 464 465 466 467\n",
      " 468 469 470 471 472 473 474 475 476 477 478 479 480 481 482 483 484 485\n",
      " 486 487 488 489 490 491 492 493 494 495 496 497 498 499 500 501 502 503\n",
      " 504 505 506 507 508 509 510 511 512 513 514 515 516 517 518 519 520 521\n",
      " 522 523 524 525 526 527 528 529 530 531 532 533 534 535 536 537 538 539\n",
      " 540 541 542 543 544 545 546 547 548 549 550 551 552 553 554 555 556 557]\n"
     ]
    },
    {
     "name": "stderr",
     "output_type": "stream",
     "text": [
      "/anaconda3/envs/PythonData/lib/python3.6/site-packages/ipykernel_launcher.py:4: SettingWithCopyWarning: \n",
      "A value is trying to be set on a copy of a slice from a DataFrame.\n",
      "Try using .loc[row_indexer,col_indexer] = value instead\n",
      "\n",
      "See the caveats in the documentation: http://pandas.pydata.org/pandas-docs/stable/indexing.html#indexing-view-versus-copy\n",
      "  after removing the cwd from sys.path.\n"
     ]
    }
   ],
   "source": [
    "for i in list_of_feaatures_to_encode:\n",
    "    enc = le.fit(np.unique(data[i].values))\n",
    "    print(enc.classes_)\n",
    "    data[i] = le.fit_transform(data[i])"
   ]
  },
  {
   "cell_type": "code",
   "execution_count": 65,
   "metadata": {},
   "outputs": [],
   "source": [
    "from sklearn import model_selection\n",
    "from sklearn.linear_model import LinearRegression\n",
    "from sklearn import preprocessing"
   ]
  },
  {
   "cell_type": "code",
   "execution_count": 66,
   "metadata": {},
   "outputs": [],
   "source": [
    "#sys.pairplot(car_data, x_vars=['country','province','variety', 'price', 'points'], y_vars='price', size=7, aspect=0.7, kind='reg')\n",
    "\n",
    "\n"
   ]
  },
  {
   "cell_type": "code",
   "execution_count": 67,
   "metadata": {},
   "outputs": [
    {
     "name": "stdout",
     "output_type": "stream",
     "text": [
      "<class 'pandas.core.frame.DataFrame'>\n",
      "(120782, 4)\n",
      "<class 'pandas.core.series.Series'>\n",
      "(120782,)\n"
     ]
    }
   ],
   "source": [
    "feature_cols = [\"country\", \"points\", \"province\", \"variety\"]\n",
    "X = data[feature_cols]\n",
    "print(type(X))\n",
    "print(X.shape)\n",
    "\n",
    "Y = data['price']\n",
    "print(type(Y))\n",
    "print(Y.shape)"
   ]
  },
  {
   "cell_type": "code",
   "execution_count": 68,
   "metadata": {},
   "outputs": [
    {
     "name": "stdout",
     "output_type": "stream",
     "text": [
      "(90586, 4)\n",
      "(30196, 4)\n",
      "(90586,)\n",
      "(30196,)\n"
     ]
    }
   ],
   "source": [
    "from sklearn.model_selection import train_test_split\n",
    "X_train, X_test, Y_train, Y_test = train_test_split(X, Y, random_state=1)\n",
    "print(X_train.shape)\n",
    "print(X_test.shape)\n",
    "print(Y_train.shape)\n",
    "print(Y_test.shape)"
   ]
  },
  {
   "cell_type": "code",
   "execution_count": 69,
   "metadata": {},
   "outputs": [
    {
     "data": {
      "text/plain": [
       "LinearRegression(copy_X=True, fit_intercept=True, n_jobs=None,\n",
       "         normalize=False)"
      ]
     },
     "execution_count": 69,
     "metadata": {},
     "output_type": "execute_result"
    }
   ],
   "source": [
    "reg = LinearRegression()\n",
    "reg.fit(X_train,Y_train)"
   ]
  },
  {
   "cell_type": "code",
   "execution_count": 70,
   "metadata": {},
   "outputs": [
    {
     "name": "stdout",
     "output_type": "stream",
     "text": [
      "-449.1251086695992\n",
      "[ 0.01354764  5.54970591 -0.01192518 -0.01592775]\n"
     ]
    }
   ],
   "source": [
    "print(reg.intercept_)\n",
    "print(reg.coef_)"
   ]
  },
  {
   "cell_type": "code",
   "execution_count": 71,
   "metadata": {},
   "outputs": [
    {
     "data": {
      "text/plain": [
       "[('country', 0.013547636735058629),\n",
       " ('points', 5.549705910376739),\n",
       " ('province', -0.011925175978802827),\n",
       " ('variety', -0.015927750330344992)]"
      ]
     },
     "execution_count": 71,
     "metadata": {},
     "output_type": "execute_result"
    }
   ],
   "source": [
    "list(zip(feature_cols, reg.coef_))"
   ]
  },
  {
   "cell_type": "code",
   "execution_count": 72,
   "metadata": {},
   "outputs": [],
   "source": [
    "Y_pred = reg.predict(X_test)"
   ]
  },
  {
   "cell_type": "code",
   "execution_count": 73,
   "metadata": {},
   "outputs": [
    {
     "name": "stdout",
     "output_type": "stream",
     "text": [
      "37.912742706834244\n"
     ]
    }
   ],
   "source": [
    "from sklearn import metrics\n",
    "print(np.sqrt(metrics.mean_squared_error(Y_test, Y_pred)))"
   ]
  },
  {
   "cell_type": "code",
   "execution_count": 81,
   "metadata": {},
   "outputs": [
    {
     "data": {
      "text/plain": [
       "<matplotlib.collections.PathCollection at 0x1a1df3b0f0>"
      ]
     },
     "execution_count": 81,
     "metadata": {},
     "output_type": "execute_result"
    },
    {
     "data": {
      "image/png": "[encoded data removed]",
      "text/plain": [
       "<Figure size 432x288 with 1 Axes>"
      ]
     },
     "metadata": {
      "needs_background": "light"
     },
     "output_type": "display_data"
    }
   ],
   "source": [
    "import matplotlib.pyplot as plt\n",
    "plt.scatter(Y_pred, Y_test)"
   ]
  },
  {
   "cell_type": "code",
   "execution_count": 74,
   "metadata": {},
   "outputs": [
    {
     "name": "stdout",
     "output_type": "stream",
     "text": [
      "-449.1251086695992\n",
      "[ 0.01354764  5.54970591 -0.01192518 -0.01592775]\n",
      "37.912742706834244\n"
     ]
    }
   ],
   "source": [
    "feature_cols = [\"country\", \"points\", \"province\", \"variety\"]\n",
    "\n",
    "# use the list to select a subset of the original DataFrame\n",
    "X = data[feature_cols]\n",
    "\n",
    "# select a Series from the DataFrame\n",
    "Y = data.price\n",
    "\n",
    "# split into training and testing sets\n",
    "X_train, X_test, Y_train, Y_test = train_test_split(X, Y, random_state=1)\n",
    "print(reg.intercept_)\n",
    "print(reg.coef_)\n",
    "\n",
    "# fit the model to the training data (learn the coefficients)\n",
    "reg.fit(X_train, Y_train)\n",
    "\n",
    "# make predictions on the testing set\n",
    "Y_pred = reg.predict(X_test)\n",
    "\n",
    "# compute the RMSE of our predictions\n",
    "\n",
    "print(np.sqrt(metrics.mean_squared_error(Y_test, Y_pred)))"
   ]
  },
  {
   "cell_type": "code",
   "execution_count": 79,
   "metadata": {},
   "outputs": [
    {
     "data": {
      "text/plain": [
       "15.0"
      ]
     },
     "execution_count": 79,
     "metadata": {},
     "output_type": "execute_result"
    }
   ],
   "source": [
    "X.head()\n",
    "Y[1]"
   ]
  },
  {
   "cell_type": "code",
   "execution_count": 76,
   "metadata": {},
   "outputs": [
    {
     "data": {
      "text/plain": [
       "array([25.57241787])"
      ]
     },
     "execution_count": 76,
     "metadata": {},
     "output_type": "execute_result"
    }
   ],
   "source": [
    "reg.predict([[39, 87, 265, 345]])"
   ]
  },
  {
   "cell_type": "code",
   "execution_count": 77,
   "metadata": {},
   "outputs": [
    {
     "data": {
      "text/html": [
       "<div>\n",
       "<style scoped>\n",
       "    .dataframe tbody tr th:only-of-type {\n",
       "        vertical-align: middle;\n",
       "    }\n",
       "\n",
       "    .dataframe tbody tr th {\n",
       "        vertical-align: top;\n",
       "    }\n",
       "\n",
       "    .dataframe thead th {\n",
       "        text-align: right;\n",
       "    }\n",
       "</style>\n",
       "<table border=\"1\" class=\"dataframe\">\n",
       "  <thead>\n",
       "    <tr style=\"text-align: right;\">\n",
       "      <th></th>\n",
       "      <th>country</th>\n",
       "      <th>points</th>\n",
       "      <th>province</th>\n",
       "      <th>variety</th>\n",
       "      <th>price</th>\n",
       "      <th>variety_count</th>\n",
       "    </tr>\n",
       "  </thead>\n",
       "  <tbody>\n",
       "    <tr>\n",
       "      <th>1</th>\n",
       "      <td>30</td>\n",
       "      <td>87</td>\n",
       "      <td>106</td>\n",
       "      <td>356</td>\n",
       "      <td>15.0</td>\n",
       "      <td>2196</td>\n",
       "    </tr>\n",
       "    <tr>\n",
       "      <th>2</th>\n",
       "      <td>39</td>\n",
       "      <td>87</td>\n",
       "      <td>265</td>\n",
       "      <td>345</td>\n",
       "      <td>14.0</td>\n",
       "      <td>1388</td>\n",
       "    </tr>\n",
       "  </tbody>\n",
       "</table>\n",
       "</div>"
      ],
      "text/plain": [
       "   country  points  province  variety  price  variety_count\n",
       "1       30      87       106      356   15.0           2196\n",
       "2       39      87       265      345   14.0           1388"
      ]
     },
     "execution_count": 77,
     "metadata": {},
     "output_type": "execute_result"
    }
   ],
   "source": [
    "data.head(2)"
   ]
  },
  {
   "cell_type": "code",
   "execution_count": null,
   "metadata": {},
   "outputs": [],
   "source": []
  },
  {
   "cell_type": "code",
   "execution_count": null,
   "metadata": {},
   "outputs": [],
   "source": []
  },
  {
   "cell_type": "code",
   "execution_count": null,
   "metadata": {
    "_uuid": "6bf60b5bb107cf963248d540a75e3d3246cc40ae"
   },
   "outputs": [],
   "source": [
    "df.describe()"
   ]
  },
  {
   "cell_type": "code",
   "execution_count": null,
   "metadata": {},
   "outputs": [],
   "source": []
  },
  {
   "cell_type": "code",
   "execution_count": null,
   "metadata": {
    "_uuid": "7968ba910cf972523cf7c5cfd22ad2aca6891753"
   },
   "outputs": [],
   "source": [
    "import matplotlib.pyplot as plt\n",
    "df.hist(bins=20, figsize=(20,15))\n",
    "plt.show()"
   ]
  },
  {
   "cell_type": "code",
   "execution_count": null,
   "metadata": {},
   "outputs": [],
   "source": [
    "data_new = pd.get_dummies(df)\n"
   ]
  },
  {
   "cell_type": "code",
   "execution_count": null,
   "metadata": {},
   "outputs": [],
   "source": [
    "data_new.shape"
   ]
  },
  {
   "cell_type": "code",
   "execution_count": null,
   "metadata": {
    "_uuid": "66c3dc008380fc783b26182710c0eb5706e8225a"
   },
   "outputs": [],
   "source": [
    "from sklearn.linear_model import LinearRegression\n",
    "from sklearn.preprocessing import StandardScaler\n",
    "y = data_new[\"price\"]\n",
    "X =data_new.drop(columns=[\"price\"])\n",
    "y = y.values.reshape(-1,1)\n",
    "X_train, X_test, y_train, y_test = train_test_split(X, y, random_state=1)\n"
   ]
  },
  {
   "cell_type": "code",
   "execution_count": null,
   "metadata": {},
   "outputs": [],
   "source": [
    "from sklearn.preprocessing import StandardScaler\n",
    "X_scaler = StandardScaler().fit(X_train)\n",
    "y_scaler = StandardScaler().fit(y_train)\n",
    "X_train_scaled = X_scaler.transform(X_train)\n",
    "X_test_scaled = X_scaler.transform(X_test)\n",
    "\n",
    "y_train_scaled = y_scaler.transform(y_train)\n",
    "y_test_scaled = y_scaler.transform(y_test)"
   ]
  },
  {
   "cell_type": "code",
   "execution_count": null,
   "metadata": {},
   "outputs": [],
   "source": [
    "model = LinearRegression()\n",
    "model.fit(X_train_scaled, y_train_scaled)\n",
    "predictions = model.predict(X_test_scaled)"
   ]
  },
  {
   "cell_type": "code",
   "execution_count": null,
   "metadata": {},
   "outputs": [],
   "source": [
    "from sklearn.linear_model import Lasso\n",
    "lasso = Lasso(alpha=.01).fit(X_train_scaled, y_train_scaled)\n",
    "predictions = lasso.predict(X_test_scaled)\n",
    "MSE = mean_squared_error(y_test_scaled, predictions)\n",
    "r2 = lasso.score(X_test_scaled, y_test_scaled)\n",
    "print(f\"MSE: {MSE}, R2: {r2}\")"
   ]
  },
  {
   "cell_type": "code",
   "execution_count": null,
   "metadata": {},
   "outputs": [],
   "source": [
    "from sklearn.linear_model import Ridge\n",
    "ridge = Ridge(alpha=.01).fit(X_train_scaled, y_train_scaled)\n",
    "predictions = ridge.predict(X_test_scaled)\n",
    "MSE = mean_squared_error(y_test_scaled, predictions)\n",
    "r2 = ridge.score(X_test_scaled, y_test_scaled)\n",
    "print(f\"MSE: {MSE}, R2: {r2}\")"
   ]
  },
  {
   "cell_type": "code",
   "execution_count": null,
   "metadata": {},
   "outputs": [],
   "source": [
    "from sklearn.linear_model import ElasticNet\n",
    "elasticnet = ElasticNet(alpha=.01).fit(X_train_scaled, y_train_scaled)\n",
    "predictions = elasticnet.predict(X_test_scaled)\n",
    "MSE = mean_squared_error(y_test_scaled, predictions)\n",
    "r2 = elasticnet.score(X_test_scaled, y_test_scaled)\n",
    "print(f\"MSE: {MSE}, R2: {r2}\")"
   ]
  },
  {
   "cell_type": "code",
   "execution_count": null,
   "metadata": {},
   "outputs": [],
   "source": []
  }
 ],
 "metadata": {
  "kernelspec": {
   "display_name": "Python [conda env:pythondata]",
   "language": "python",
   "name": "conda-env-pythondata-py"
  },
  "language_info": {
   "codemirror_mode": {
    "name": "ipython",
    "version": 3
   },
   "file_extension": ".py",
   "mimetype": "text/x-python",
   "name": "python",
   "nbconvert_exporter": "python",
   "pygments_lexer": "ipython3",
   "version": "3.6.7"
  }
 },
 "nbformat": 4,
 "nbformat_minor": 1
}
